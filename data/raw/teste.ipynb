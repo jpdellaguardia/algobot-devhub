{
 "cells": [
  {
   "cell_type": "code",
   "execution_count": 18,
   "id": "4177a987",
   "metadata": {},
   "outputs": [
    {
     "name": "stdout",
     "output_type": "stream",
     "text": [
      "             open_time       open       high        low      close   volume\n",
      "0  2025-07-06 17:50:00  108916.61  108916.61  108916.60  108916.61  0.26767\n",
      "1  2025-07-06 17:51:00  108916.61  108916.61  108909.18  108909.18  0.40611\n",
      "2  2025-07-06 17:52:00  108909.18  108909.19  108868.79  108901.52  7.25683\n",
      "3  2025-07-06 17:53:00  108901.53  108912.00  108901.52  108912.00  1.33027\n",
      "4  2025-07-06 17:54:00  108912.00  108912.00  108911.99  108911.99  0.27199\n"
     ]
    }
   ],
   "source": [
    "import pandas as pd\n",
    "\n",
    "# Use o caminho absoluto completo\n",
    "\n",
    "\n",
    "# Para evitar erros de barra invertida, use a barra normal (/) no Windows\n",
    "# ou use o prefixo r para string \"raw\": r'C:\\...'\n",
    "df = pd.read_csv('C:/Users/acer/Desktop/Projeto Trading/algobot-devhub-main/data/raw/BTCUSDT_1m_last_30_days.csv')\n",
    "\n",
    "print(df.head())"
   ]
  },
  {
   "cell_type": "code",
   "execution_count": 21,
   "id": "625d6d7e",
   "metadata": {},
   "outputs": [
    {
     "data": {
      "text/plain": [
       "np.int64(0)"
      ]
     },
     "execution_count": 21,
     "metadata": {},
     "output_type": "execute_result"
    }
   ],
   "source": [
    "nulos = df.isnull().sum().sum()\n",
    "nulos"
   ]
  },
  {
   "cell_type": "code",
   "execution_count": 22,
   "id": "98791ed9",
   "metadata": {},
   "outputs": [
    {
     "name": "stdout",
     "output_type": "stream",
     "text": [
      "🔁 Linhas duplicadas por 'open_time': 0\n"
     ]
    }
   ],
   "source": [
    "duplicadas = df.duplicated(subset='open_time')\n",
    "qtd_duplicadas = duplicadas.sum()\n",
    "print(f\"🔁 Linhas duplicadas por 'open_time': {qtd_duplicadas}\")\n"
   ]
  }
 ],
 "metadata": {
  "kernelspec": {
   "display_name": "trading_bot_venv",
   "language": "python",
   "name": "python3"
  },
  "language_info": {
   "codemirror_mode": {
    "name": "ipython",
    "version": 3
   },
   "file_extension": ".py",
   "mimetype": "text/x-python",
   "name": "python",
   "nbconvert_exporter": "python",
   "pygments_lexer": "ipython3",
   "version": "3.13.5"
  }
 },
 "nbformat": 4,
 "nbformat_minor": 5
}
